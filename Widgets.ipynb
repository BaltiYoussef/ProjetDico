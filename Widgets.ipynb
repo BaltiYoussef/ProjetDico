{
 "cells": [
  {
   "cell_type": "code",
   "execution_count": 59,
   "metadata": {},
   "outputs": [],
   "source": [
    "#J'importe mon script qui récupere les fichiers audios pour mon mot:\n",
    "%run Youssef_Balti_scrappingMP3.ipynb\n",
    "#On ignore les warning et on les affiche pas\n",
    "import warnings\n",
    "warnings.filterwarnings('ignore')\n",
    "#J'importe la librairie\n",
    "from IPython import display\n",
    "import ipywidgets as widgets"
   ]
  },
  {
   "cell_type": "code",
   "execution_count": 60,
   "metadata": {},
   "outputs": [],
   "source": [
    "#Je tape mon mot dans ma variable\n",
    "myword='run'"
   ]
  },
  {
   "cell_type": "code",
   "execution_count": 61,
   "metadata": {},
   "outputs": [],
   "source": [
    "def audio_widget(myword):\n",
    "    audio_widgets = []\n",
    "    listUrl = []\n",
    "    #Je recupere la version americaine de mon mot.\n",
    "    listUrl.append(GetAmericanAudio(myword))\n",
    "    #Je recupere la version Anglaise de mon mot.\n",
    "    listUrl.append(GetBritishAudio(myword))\n",
    "    for urlCur in listUrl:\n",
    "        out = widgets.Output()\n",
    "        with out:\n",
    "\n",
    "            display.display(display.Audio(url=urlCur))\n",
    "\n",
    "\n",
    "        audio_widgets.append(out)\n",
    "\n",
    "\n",
    "    return widgets.HBox(audio_widgets)"
   ]
  },
  {
   "cell_type": "code",
   "execution_count": 62,
   "metadata": {},
   "outputs": [
    {
     "data": {
      "application/vnd.jupyter.widget-view+json": {
       "model_id": "597f4af118624871a88f1533380fa7c3",
       "version_major": 2,
       "version_minor": 0
      },
      "text/plain": [
       "HBox(children=(Output(), Output()))"
      ]
     },
     "metadata": {},
     "output_type": "display_data"
    }
   ],
   "source": [
    "audio_widget(myword)"
   ]
  },
  {
   "cell_type": "code",
   "execution_count": 63,
   "metadata": {},
   "outputs": [],
   "source": [
    "# import necessaire à la création des widgets\n",
    "from IPython.display import display, clear_output, HTML, Markdown \n",
    "import ipywidgets as widgets\n",
    "import pandas as pd\n",
    "import re\n",
    "from datetime import datetime\n",
    "from pathlib import Path\n",
    "import ipywidgets as widgets"
   ]
  },
  {
   "cell_type": "code",
   "execution_count": 64,
   "metadata": {},
   "outputs": [],
   "source": [
    "#On importe le dictionnaire enrichi generée par le script ... :\n",
    "pathCsvFile='./../data/dataframe/BuchananRich.csv'\n",
    "dfWalker = pd.read_csv(pathCsvFile, sep=\",\", encoding=\"utf-8\", low_memory=False)"
   ]
  },
  {
   "cell_type": "code",
   "execution_count": 65,
   "metadata": {},
   "outputs": [],
   "source": [
    "def filtDf(strHwd, rangeSyll):    \n",
    "    #On filtre sur le texte tapé\n",
    "    dfWalkerFiltered = dfWalker[dfWalker['hwd'].str.contains(strHwd, na=False,flags=re.IGNORECASE, regex=True)]\n",
    "    #On filtre sur les lignes qui ont un nombre de syllabes entre , et \n",
    "    dfWalkerFiltered = dfWalkerFiltered[dfWalkerFiltered['nbSyll'].between(rangeSyll[0], rangeSyll[1], inclusive=True)]\n",
    "    #On retourne un dataframe filtré\n",
    "    return dfWalkerFiltered\n",
    "\n",
    "def filterFct(strHwd, rangeSyll):\n",
    "    #Si l'utilisateur n'a rien mis en input on affiche toutes les lignes\n",
    "    if strHwd==\"\":\n",
    "        strHwd = \".*\"\n",
    "    else:\n",
    "    #Sinon, on fait appel à la fonction filtDf\n",
    "        pass\n",
    "    \n",
    "    #On filtre le datfarame selon le string affiché et le nombre de syllabes\n",
    "    dfWalkerFiltered = filtDf(strHwd, rangeSyll)\n",
    "    lnbocc = widgets.Label(\"nb. occ. : \"+str(len(dfWalkerFiltered)))\n",
    "    test=str(dfWalkerFiltered.iloc[0, 10])\n",
    "    audio_widget(test)\n",
    "    display(lnbocc)\n",
    "    display(dfWalkerFiltered)"
   ]
  },
  {
   "cell_type": "code",
   "execution_count": 66,
   "metadata": {},
   "outputs": [],
   "source": [
    "nbSyllMin = dfWalker[\"nbSyll\"].min()\n",
    "nbSyllMax = dfWalker[\"nbSyll\"].max()\n",
    "\n",
    "optionsNbSyll = range(nbSyllMin, nbSyllMax)\n",
    "wid_nbsyll = widgets.SelectionRangeSlider(\n",
    "    options=optionsNbSyll,\n",
    "    index=(min(optionsNbSyll),max(optionsNbSyll)),\n",
    "    description='nb syll',\n",
    "    disabled=False\n",
    ")"
   ]
  },
  {
   "cell_type": "code",
   "execution_count": 67,
   "metadata": {},
   "outputs": [],
   "source": [
    "wid_hwd = widgets.Text(placeholder='.*',value='^pre',description=\"Hwd\")\n",
    "outputSavedData = widgets.Output()\n",
    "#Affichage des widgets à manipuler\n",
    "ui = widgets.HBox([wid_hwd, wid_nbsyll])\n",
    "#Affichage des widget à afficher\n",
    "out = widgets.interactive_output(filterFct, {'strHwd': wid_hwd, \"rangeSyll\":wid_nbsyll})"
   ]
  },
  {
   "cell_type": "code",
   "execution_count": 68,
   "metadata": {},
   "outputs": [
    {
     "data": {
      "application/vnd.jupyter.widget-view+json": {
       "model_id": "61b97bc27c68463ab3320be49dac55d7",
       "version_major": 2,
       "version_minor": 0
      },
      "text/plain": [
       "HBox(children=(Text(value='^pre', description='Hwd', placeholder='.*'), SelectionRangeSlider(description='nb s…"
      ]
     },
     "metadata": {},
     "output_type": "display_data"
    },
    {
     "data": {
      "application/vnd.jupyter.widget-view+json": {
       "model_id": "ebdf3cc277f947bc8d142d610ed22037",
       "version_major": 2,
       "version_minor": 0
      },
      "text/plain": [
       "Output()"
      ]
     },
     "metadata": {},
     "output_type": "display_data"
    }
   ],
   "source": [
    "display(ui, out)"
   ]
  },
  {
   "cell_type": "code",
   "execution_count": null,
   "metadata": {},
   "outputs": [],
   "source": []
  }
 ],
 "metadata": {
  "kernelspec": {
   "display_name": "Python 3",
   "language": "python",
   "name": "python3"
  },
  "language_info": {
   "codemirror_mode": {
    "name": "ipython",
    "version": 3
   },
   "file_extension": ".py",
   "mimetype": "text/x-python",
   "name": "python",
   "nbconvert_exporter": "python",
   "pygments_lexer": "ipython3",
   "version": "3.8.5"
  }
 },
 "nbformat": 4,
 "nbformat_minor": 4
}
