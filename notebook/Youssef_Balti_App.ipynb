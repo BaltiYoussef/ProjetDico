{
 "cells": [
  {
   "cell_type": "code",
   "execution_count": 18,
   "metadata": {},
   "outputs": [],
   "source": [
    "#J'importe mon script qui récupere les fichiers audios pour mon mot:\n",
    "%run Youssef_Balti_scrapping.ipynb\n",
    "# import necessaire à la création des widgets\n",
    "from IPython.display import display, clear_output, HTML, Markdown \n",
    "import ipywidgets as widgets\n",
    "import pandas as pd\n",
    "import ipywidgets as widgets\n",
    "import warnings\n",
    "import re\n",
    "warnings.filterwarnings('ignore')"
   ]
  },
  {
   "cell_type": "code",
   "execution_count": 19,
   "metadata": {},
   "outputs": [],
   "source": [
    "#On importe le dictionnaire enrichi generée par le script ... :\n",
    "pathCsvFile='./../data/dataframe/BuchananRich.csv'\n",
    "DfBuchanan = pd.read_csv(pathCsvFile, sep=\",\", encoding=\"utf-8\", low_memory=False)"
   ]
  },
  {
   "cell_type": "code",
   "execution_count": 21,
   "metadata": {},
   "outputs": [
    {
     "data": {
      "application/vnd.jupyter.widget-view+json": {
       "model_id": "3858654d6cf44777b69ba65b57b47580",
       "version_major": 2,
       "version_minor": 0
      },
      "text/plain": [
       "VBox(children=(HBox(children=(Text(value='^a', description='filtre hwd', placeholder='.*'), IntSlider(value=3,…"
      ]
     },
     "metadata": {},
     "output_type": "display_data"
    }
   ],
   "source": [
    "filter_hwd = widgets.Text(placeholder='.*',value='^a',description=\"filtre hwd\")\n",
    "filter_occ = widgets.IntSlider(value=3, min=1, max=10, step=1, description='occ. Max:')\n",
    "filter_ipa = widgets.Text(placeholder='.*',value='',description=\"filtre ipa\")\n",
    "\n",
    "out = widgets.Output()\n",
    "\n",
    "def filtDf(strHwd,int_occ,StrIpa):    \n",
    "    #On filtre sur le texte tapé, et on affiche maximum 10 mots.\n",
    "    DfBuchananFiltered = DfBuchanan[DfBuchanan['hwd'].str.contains(strHwd, na=False,flags=re.IGNORECASE, regex=True)].head(int_occ).reset_index(drop=True)\n",
    "    #On retourne un dataframe filtré\n",
    "    return DfBuchananFiltered\n",
    "\n",
    "def WhenClicked(_):\n",
    "    with out:\n",
    "        \n",
    "        clear_output()\n",
    "\n",
    "        strHwd = filter_hwd.value\n",
    "        int_occ = int(filter_occ.value)\n",
    "        StrIpa = filter_ipa.value\n",
    "        #Si l'utilisateur n'a rien mis en input on affiche toutes les lignes\n",
    "        if strHwd==\"\":\n",
    "            strHwd = \".*\"\n",
    "        else:\n",
    "            pass\n",
    "        #Si l'utilisateur n'a rien mis en input on affiche toutes les lignes\n",
    "        if StrIpa==\"\":\n",
    "            StrIpa = \".*\"\n",
    "        else:\n",
    "        #Sinon, on fait appel à la fonction filtDf\n",
    "            pass\n",
    "\n",
    "        #On filtre le datfarame selon le string affiché et le nombre de syllabes\n",
    "        DfBuchananFiltered = filtDf(strHwd,int_occ,StrIpa)\n",
    "        #Afficher le résultat sous forme de tableau\n",
    "        WidgetTable = '<table><tr><th style=\"border: 1px solid black; text-align: center;\">Mot</th>\\\n",
    "                                        <th style=\"border: 1px solid black; text-align: center;\">nbSyll</th>\\\n",
    "                                        <th style=\"border: 1px solid black; text-align: center;\">pronOrigin</th>\\\n",
    "                                        <th style=\"border: 1px solid black; text-align: center;\">pronIpa</th>\\\n",
    "                                        <th style=\"border: 1px solid black; text-align: center;\">pronSampa</th>\\\n",
    "                                        <th style=\"border: 1px solid black; text-align: center;\">POS</th>\\\n",
    "                                        <th style=\"border: 1px solid black; text-align: center;\">US_Audio</th>\\\n",
    "                                        <th style=\"border: 1px solid black; text-align: center;\">Br_Audio</th>\\\n",
    "                                    </tr>'\n",
    "        for i in range(len(DfBuchananFiltered)):\n",
    "            mot = DfBuchananFiltered.motVedette[i]\n",
    "            print(mot)\n",
    "            Us_Url=GetAmericanAudio(mot)\n",
    "            Br_Url=GetBritishAudio(mot)\n",
    "            \n",
    "            WidgetTable += '<tr>      <td style=\"border: 1px solid black; text-align: center;\">'+mot+'</td>\\\n",
    "                                      <td style=\"border: 1px solid black; text-align: center;\">'+str(DfBuchananFiltered.nbSyll[i])+'</td>\\\n",
    "                                      <td style=\"border: 1px solid black; text-align: center;\">'+DfBuchananFiltered.pron[i]+'</td>\\\n",
    "                                      <td style=\"border: 1px solid black; text-align: center;\">'+DfBuchananFiltered.ipa[i]+'</td>\\\n",
    "                                      <td style=\"border: 1px solid black; text-align: center;\">'+DfBuchananFiltered.pronSampa[i]+'</td>\\\n",
    "                                      <td style=\"border: 1px solid black; text-align: center;\">'+DfBuchananFiltered.PartOfSpeech[i]+'</td>\\\n",
    "                                      <td style=\"border: 1px solid black;\"> <audio controls src=\"'+Us_Url+'\"><code>audio</code></audio></td>\\\n",
    "                                      <td style=\"border: 1px solid black;\"> <audio controls src=\"'+Br_Url+'\"><code>audio</code></audio></td>\\\n",
    "                                  </tr>'\n",
    "        WidgetTable += '</table>'\n",
    "        tableau = HTML(WidgetTable)\n",
    "        display(tableau)\n",
    "\n",
    "#Créer un bouton qui récupere l'ensemble des mots et des audios quand il est cliqué        \n",
    "button = widgets.Button(description='Collecter')    \n",
    "button.on_click(WhenClicked)\n",
    "\n",
    "#Les widets Filtres\n",
    "input_filter = widgets.HBox([filter_hwd, filter_occ,filter_ipa, button])\n",
    "\n",
    "output_filter = widgets.VBox([out])\n",
    "\n",
    "all_widget = widgets.VBox([input_filter, output_filter])\n",
    "#Afficher toutes les widgets.\n",
    "display(all_widget)"
   ]
  },
  {
   "cell_type": "code",
   "execution_count": null,
   "metadata": {},
   "outputs": [],
   "source": []
  }
 ],
 "metadata": {
  "kernelspec": {
   "display_name": "Python 3",
   "language": "python",
   "name": "python3"
  },
  "language_info": {
   "codemirror_mode": {
    "name": "ipython",
    "version": 3
   },
   "file_extension": ".py",
   "mimetype": "text/x-python",
   "name": "python",
   "nbconvert_exporter": "python",
   "pygments_lexer": "ipython3",
   "version": "3.8.5"
  }
 },
 "nbformat": 4,
 "nbformat_minor": 4
}
