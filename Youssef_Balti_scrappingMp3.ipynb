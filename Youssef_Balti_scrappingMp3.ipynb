{
 "cells": [
  {
   "cell_type": "code",
   "execution_count": 61,
   "metadata": {},
   "outputs": [],
   "source": [
    "import requests\n",
    "from requests_html import HTMLSession\n",
    "from bs4 import BeautifulSoup"
   ]
  },
  {
   "cell_type": "code",
   "execution_count": 62,
   "metadata": {},
   "outputs": [],
   "source": [
    "session = HTMLSession()"
   ]
  },
  {
   "cell_type": "code",
   "execution_count": 78,
   "metadata": {},
   "outputs": [],
   "source": [
    "def Audio_Scrapper(word):\n",
    "    Audio_file=[]\n",
    "    #Récuperer le lien vers la page web du mot choisi\n",
    "    url = \"https://www.ldoceonline.com/dictionary/\" + word\n",
    "    #Voir le résultat obtenu \"200 ou 404 etc..\"\n",
    "    response = session.get(url)\n",
    "    #Afficher le contenu html de la page\n",
    "    html_doc = response.content\n",
    "    #BeautifulSoup permet d'afficher le contenu du html d'une maniere plus propre :\n",
    "    soup = BeautifulSoup(html_doc,'html.parser')\n",
    "    souplettesBody = soup.find('body')\n",
    "    finded = souplettesBody.findAll('span',{\"class\":[\"speaker brefile fas fa-volume-up hideOnAmp\",\"speaker amefile fas fa-volume-up hideOnAmp\"]})\n",
    "    for text in finded:\n",
    "        Audio_file += text.get_attribute_list('data-src-mp3')\n",
    "    return Audio_file\n",
    "        "
   ]
  },
  {
   "cell_type": "code",
   "execution_count": 79,
   "metadata": {},
   "outputs": [],
   "source": [
    "def GetAmericanAudio(word):\n",
    "    us_audio=Audio_Scrapper(word)\n",
    "    #J'enleve la partie ?version=1.2.42 à la fin de l'url de la page\n",
    "    us_audio=us_audio[1].split(\"?\")\n",
    "    return us_audio[0]"
   ]
  },
  {
   "cell_type": "code",
   "execution_count": 80,
   "metadata": {},
   "outputs": [],
   "source": [
    "def GetBritishAudio(word):\n",
    "    br_audio=Audio_Scrapper(word)\n",
    "    #J'enleve la partie ?version=1.2.42 à la fin de l'url de la page\n",
    "    br_audio=br_audio[0].split(\"?\")\n",
    "    return br_audio[0]"
   ]
  }
 ],
 "metadata": {
  "kernelspec": {
   "display_name": "Python 3",
   "language": "python",
   "name": "python3"
  },
  "language_info": {
   "codemirror_mode": {
    "name": "ipython",
    "version": 3
   },
   "file_extension": ".py",
   "mimetype": "text/x-python",
   "name": "python",
   "nbconvert_exporter": "python",
   "pygments_lexer": "ipython3",
   "version": "3.8.5"
  }
 },
 "nbformat": 4,
 "nbformat_minor": 4
}
